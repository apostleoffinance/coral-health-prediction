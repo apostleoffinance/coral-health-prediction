{
 "cells": [],
 "metadata": {
  "kernelspec": {
   "display_name": "coral-reef-challenge",
   "language": "python",
   "name": "python3"
  },
  "language_info": {
   "name": "python",
   "version": "3.10.16"
  }
 },
 "nbformat": 4,
 "nbformat_minor": 2
}
